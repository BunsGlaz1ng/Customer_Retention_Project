{
 "cells": [
  {
   "cell_type": "markdown",
   "id": "f705f7a0",
   "metadata": {},
   "source": [
    "# Customer Retention with Data-Driven Insights"
   ]
  },
  {
   "cell_type": "code",
   "execution_count": 2,
   "id": "0c3bd228",
   "metadata": {},
   "outputs": [],
   "source": [
    "#importing required libraries\n",
    "import pandas as pd\n",
    "import numpy as np"
   ]
  },
  {
   "cell_type": "code",
   "execution_count": 3,
   "id": "6b681c7e",
   "metadata": {},
   "outputs": [
    {
     "data": {
      "text/html": [
       "<div>\n",
       "<style scoped>\n",
       "    .dataframe tbody tr th:only-of-type {\n",
       "        vertical-align: middle;\n",
       "    }\n",
       "\n",
       "    .dataframe tbody tr th {\n",
       "        vertical-align: top;\n",
       "    }\n",
       "\n",
       "    .dataframe thead th {\n",
       "        text-align: right;\n",
       "    }\n",
       "</style>\n",
       "<table border=\"1\" class=\"dataframe\">\n",
       "  <thead>\n",
       "    <tr style=\"text-align: right;\">\n",
       "      <th></th>\n",
       "      <th>Date</th>\n",
       "      <th>Gender</th>\n",
       "      <th>Age</th>\n",
       "      <th>Job_Status</th>\n",
       "      <th>annual_income</th>\n",
       "      <th>visit</th>\n",
       "      <th>mode</th>\n",
       "      <th>duration</th>\n",
       "      <th>Distance</th>\n",
       "      <th>membership_card</th>\n",
       "      <th>...</th>\n",
       "      <th>average_spend</th>\n",
       "      <th>Quality</th>\n",
       "      <th>price_range</th>\n",
       "      <th>promotions</th>\n",
       "      <th>ambiance</th>\n",
       "      <th>WiFi_quality</th>\n",
       "      <th>service</th>\n",
       "      <th>M&amp;H</th>\n",
       "      <th>Source</th>\n",
       "      <th>Visit_again</th>\n",
       "    </tr>\n",
       "  </thead>\n",
       "  <tbody>\n",
       "    <tr>\n",
       "      <th>0</th>\n",
       "      <td>2019/10/01 12:38:43 PM GMT+8</td>\n",
       "      <td>Female</td>\n",
       "      <td>From 20 to 29</td>\n",
       "      <td>Student</td>\n",
       "      <td>Less than RM25,000</td>\n",
       "      <td>Rarely</td>\n",
       "      <td>Dine in</td>\n",
       "      <td>Between 30 minutes to 1 hour</td>\n",
       "      <td>within 1km</td>\n",
       "      <td>Yes</td>\n",
       "      <td>...</td>\n",
       "      <td>Less than RM20</td>\n",
       "      <td>4</td>\n",
       "      <td>3</td>\n",
       "      <td>5</td>\n",
       "      <td>5</td>\n",
       "      <td>4</td>\n",
       "      <td>4</td>\n",
       "      <td>3</td>\n",
       "      <td>Starbucks Website/Apps;Social Media;Emails;Dea...</td>\n",
       "      <td>Yes</td>\n",
       "    </tr>\n",
       "    <tr>\n",
       "      <th>1</th>\n",
       "      <td>2019/10/01 12:38:54 PM GMT+8</td>\n",
       "      <td>Female</td>\n",
       "      <td>From 20 to 29</td>\n",
       "      <td>Student</td>\n",
       "      <td>Less than RM25,000</td>\n",
       "      <td>Rarely</td>\n",
       "      <td>Take away</td>\n",
       "      <td>Below 30 minutes</td>\n",
       "      <td>1km - 3km</td>\n",
       "      <td>Yes</td>\n",
       "      <td>...</td>\n",
       "      <td>Less than RM20</td>\n",
       "      <td>4</td>\n",
       "      <td>3</td>\n",
       "      <td>4</td>\n",
       "      <td>4</td>\n",
       "      <td>4</td>\n",
       "      <td>5</td>\n",
       "      <td>2</td>\n",
       "      <td>Social Media;In Store displays</td>\n",
       "      <td>Yes</td>\n",
       "    </tr>\n",
       "    <tr>\n",
       "      <th>2</th>\n",
       "      <td>2019/10/01 12:38:56 PM GMT+8</td>\n",
       "      <td>Male</td>\n",
       "      <td>From 20 to 29</td>\n",
       "      <td>Employed</td>\n",
       "      <td>Less than RM25,000</td>\n",
       "      <td>Monthly</td>\n",
       "      <td>Dine in</td>\n",
       "      <td>Between 30 minutes to 1 hour</td>\n",
       "      <td>more than 3km</td>\n",
       "      <td>Yes</td>\n",
       "      <td>...</td>\n",
       "      <td>Less than RM20</td>\n",
       "      <td>4</td>\n",
       "      <td>3</td>\n",
       "      <td>4</td>\n",
       "      <td>4</td>\n",
       "      <td>4</td>\n",
       "      <td>4</td>\n",
       "      <td>3</td>\n",
       "      <td>In Store displays;Billboards</td>\n",
       "      <td>Yes</td>\n",
       "    </tr>\n",
       "    <tr>\n",
       "      <th>3</th>\n",
       "      <td>2019/10/01 12:39:08 PM GMT+8</td>\n",
       "      <td>Female</td>\n",
       "      <td>From 20 to 29</td>\n",
       "      <td>Student</td>\n",
       "      <td>Less than RM25,000</td>\n",
       "      <td>Rarely</td>\n",
       "      <td>Take away</td>\n",
       "      <td>Below 30 minutes</td>\n",
       "      <td>more than 3km</td>\n",
       "      <td>No</td>\n",
       "      <td>...</td>\n",
       "      <td>Less than RM20</td>\n",
       "      <td>2</td>\n",
       "      <td>1</td>\n",
       "      <td>4</td>\n",
       "      <td>3</td>\n",
       "      <td>3</td>\n",
       "      <td>3</td>\n",
       "      <td>3</td>\n",
       "      <td>Through friends and word of mouth</td>\n",
       "      <td>No</td>\n",
       "    </tr>\n",
       "    <tr>\n",
       "      <th>4</th>\n",
       "      <td>2019/10/01 12:39:20 PM GMT+8</td>\n",
       "      <td>Male</td>\n",
       "      <td>From 20 to 29</td>\n",
       "      <td>Student</td>\n",
       "      <td>Less than RM25,000</td>\n",
       "      <td>Monthly</td>\n",
       "      <td>Take away</td>\n",
       "      <td>Between 30 minutes to 1 hour</td>\n",
       "      <td>1km - 3km</td>\n",
       "      <td>No</td>\n",
       "      <td>...</td>\n",
       "      <td>Around RM20 - RM40</td>\n",
       "      <td>3</td>\n",
       "      <td>3</td>\n",
       "      <td>4</td>\n",
       "      <td>2</td>\n",
       "      <td>2</td>\n",
       "      <td>3</td>\n",
       "      <td>3</td>\n",
       "      <td>Starbucks Website/Apps;Social Media</td>\n",
       "      <td>Yes</td>\n",
       "    </tr>\n",
       "  </tbody>\n",
       "</table>\n",
       "<p>5 rows × 21 columns</p>\n",
       "</div>"
      ],
      "text/plain": [
       "                           Date  Gender            Age Job_Status  \\\n",
       "0  2019/10/01 12:38:43 PM GMT+8  Female  From 20 to 29    Student   \n",
       "1  2019/10/01 12:38:54 PM GMT+8  Female  From 20 to 29    Student   \n",
       "2  2019/10/01 12:38:56 PM GMT+8    Male  From 20 to 29   Employed   \n",
       "3  2019/10/01 12:39:08 PM GMT+8  Female  From 20 to 29    Student   \n",
       "4  2019/10/01 12:39:20 PM GMT+8    Male  From 20 to 29    Student   \n",
       "\n",
       "        annual_income    visit       mode                      duration  \\\n",
       "0  Less than RM25,000   Rarely    Dine in  Between 30 minutes to 1 hour   \n",
       "1  Less than RM25,000   Rarely  Take away              Below 30 minutes   \n",
       "2  Less than RM25,000  Monthly    Dine in  Between 30 minutes to 1 hour   \n",
       "3  Less than RM25,000   Rarely  Take away              Below 30 minutes   \n",
       "4  Less than RM25,000  Monthly  Take away  Between 30 minutes to 1 hour   \n",
       "\n",
       "        Distance membership_card  ...       average_spend Quality  \\\n",
       "0     within 1km             Yes  ...      Less than RM20       4   \n",
       "1      1km - 3km             Yes  ...      Less than RM20       4   \n",
       "2  more than 3km             Yes  ...      Less than RM20       4   \n",
       "3  more than 3km              No  ...      Less than RM20       2   \n",
       "4      1km - 3km              No  ...  Around RM20 - RM40       3   \n",
       "\n",
       "   price_range  promotions  ambiance  WiFi_quality  service  M&H  \\\n",
       "0            3           5         5             4        4    3   \n",
       "1            3           4         4             4        5    2   \n",
       "2            3           4         4             4        4    3   \n",
       "3            1           4         3             3        3    3   \n",
       "4            3           4         2             2        3    3   \n",
       "\n",
       "                                              Source Visit_again  \n",
       "0  Starbucks Website/Apps;Social Media;Emails;Dea...         Yes  \n",
       "1                     Social Media;In Store displays         Yes  \n",
       "2                       In Store displays;Billboards         Yes  \n",
       "3                  Through friends and word of mouth          No  \n",
       "4                Starbucks Website/Apps;Social Media         Yes  \n",
       "\n",
       "[5 rows x 21 columns]"
      ]
     },
     "execution_count": 3,
     "metadata": {},
     "output_type": "execute_result"
    }
   ],
   "source": [
    "#reading the data file\n",
    "df=pd.read_excel('Downloads/coffee-house-satisfactory-survey.xlsx',sheet_name=\"Sheet1\")\n",
    "df.head()"
   ]
  },
  {
   "cell_type": "code",
   "execution_count": 4,
   "id": "dd848c9d",
   "metadata": {},
   "outputs": [
    {
     "data": {
      "text/html": [
       "<div>\n",
       "<style scoped>\n",
       "    .dataframe tbody tr th:only-of-type {\n",
       "        vertical-align: middle;\n",
       "    }\n",
       "\n",
       "    .dataframe tbody tr th {\n",
       "        vertical-align: top;\n",
       "    }\n",
       "\n",
       "    .dataframe thead th {\n",
       "        text-align: right;\n",
       "    }\n",
       "</style>\n",
       "<table border=\"1\" class=\"dataframe\">\n",
       "  <thead>\n",
       "    <tr style=\"text-align: right;\">\n",
       "      <th></th>\n",
       "      <th>Quality</th>\n",
       "      <th>price_range</th>\n",
       "      <th>promotions</th>\n",
       "      <th>ambiance</th>\n",
       "      <th>WiFi_quality</th>\n",
       "      <th>service</th>\n",
       "      <th>M&amp;H</th>\n",
       "    </tr>\n",
       "  </thead>\n",
       "  <tbody>\n",
       "    <tr>\n",
       "      <th>count</th>\n",
       "      <td>122.000000</td>\n",
       "      <td>122.000000</td>\n",
       "      <td>122.000000</td>\n",
       "      <td>122.000000</td>\n",
       "      <td>122.000000</td>\n",
       "      <td>122.000000</td>\n",
       "      <td>122.000000</td>\n",
       "    </tr>\n",
       "    <tr>\n",
       "      <th>mean</th>\n",
       "      <td>3.663934</td>\n",
       "      <td>2.893443</td>\n",
       "      <td>3.795082</td>\n",
       "      <td>3.754098</td>\n",
       "      <td>3.254098</td>\n",
       "      <td>3.745902</td>\n",
       "      <td>3.516393</td>\n",
       "    </tr>\n",
       "    <tr>\n",
       "      <th>std</th>\n",
       "      <td>0.941343</td>\n",
       "      <td>1.081836</td>\n",
       "      <td>1.090443</td>\n",
       "      <td>0.929867</td>\n",
       "      <td>0.958317</td>\n",
       "      <td>0.828834</td>\n",
       "      <td>1.030394</td>\n",
       "    </tr>\n",
       "    <tr>\n",
       "      <th>min</th>\n",
       "      <td>1.000000</td>\n",
       "      <td>1.000000</td>\n",
       "      <td>1.000000</td>\n",
       "      <td>1.000000</td>\n",
       "      <td>1.000000</td>\n",
       "      <td>1.000000</td>\n",
       "      <td>1.000000</td>\n",
       "    </tr>\n",
       "    <tr>\n",
       "      <th>25%</th>\n",
       "      <td>3.000000</td>\n",
       "      <td>2.000000</td>\n",
       "      <td>3.000000</td>\n",
       "      <td>3.000000</td>\n",
       "      <td>3.000000</td>\n",
       "      <td>3.000000</td>\n",
       "      <td>3.000000</td>\n",
       "    </tr>\n",
       "    <tr>\n",
       "      <th>50%</th>\n",
       "      <td>4.000000</td>\n",
       "      <td>3.000000</td>\n",
       "      <td>4.000000</td>\n",
       "      <td>4.000000</td>\n",
       "      <td>3.000000</td>\n",
       "      <td>4.000000</td>\n",
       "      <td>4.000000</td>\n",
       "    </tr>\n",
       "    <tr>\n",
       "      <th>75%</th>\n",
       "      <td>4.000000</td>\n",
       "      <td>4.000000</td>\n",
       "      <td>5.000000</td>\n",
       "      <td>4.000000</td>\n",
       "      <td>4.000000</td>\n",
       "      <td>4.000000</td>\n",
       "      <td>4.000000</td>\n",
       "    </tr>\n",
       "    <tr>\n",
       "      <th>max</th>\n",
       "      <td>5.000000</td>\n",
       "      <td>5.000000</td>\n",
       "      <td>5.000000</td>\n",
       "      <td>5.000000</td>\n",
       "      <td>5.000000</td>\n",
       "      <td>5.000000</td>\n",
       "      <td>5.000000</td>\n",
       "    </tr>\n",
       "  </tbody>\n",
       "</table>\n",
       "</div>"
      ],
      "text/plain": [
       "          Quality  price_range  promotions    ambiance  WiFi_quality  \\\n",
       "count  122.000000   122.000000  122.000000  122.000000    122.000000   \n",
       "mean     3.663934     2.893443    3.795082    3.754098      3.254098   \n",
       "std      0.941343     1.081836    1.090443    0.929867      0.958317   \n",
       "min      1.000000     1.000000    1.000000    1.000000      1.000000   \n",
       "25%      3.000000     2.000000    3.000000    3.000000      3.000000   \n",
       "50%      4.000000     3.000000    4.000000    4.000000      3.000000   \n",
       "75%      4.000000     4.000000    5.000000    4.000000      4.000000   \n",
       "max      5.000000     5.000000    5.000000    5.000000      5.000000   \n",
       "\n",
       "          service         M&H  \n",
       "count  122.000000  122.000000  \n",
       "mean     3.745902    3.516393  \n",
       "std      0.828834    1.030394  \n",
       "min      1.000000    1.000000  \n",
       "25%      3.000000    3.000000  \n",
       "50%      4.000000    4.000000  \n",
       "75%      4.000000    4.000000  \n",
       "max      5.000000    5.000000  "
      ]
     },
     "execution_count": 4,
     "metadata": {},
     "output_type": "execute_result"
    }
   ],
   "source": [
    "#Descriptive Analysis\n",
    "df.describe()"
   ]
  },
  {
   "cell_type": "code",
   "execution_count": 5,
   "id": "2e79dfd6",
   "metadata": {},
   "outputs": [
    {
     "name": "stdout",
     "output_type": "stream",
     "text": [
      "<class 'pandas.core.frame.DataFrame'>\n",
      "RangeIndex: 122 entries, 0 to 121\n",
      "Data columns (total 21 columns):\n",
      " #   Column           Non-Null Count  Dtype \n",
      "---  ------           --------------  ----- \n",
      " 0   Date             122 non-null    object\n",
      " 1   Gender           122 non-null    object\n",
      " 2   Age              122 non-null    object\n",
      " 3   Job_Status       122 non-null    object\n",
      " 4   annual_income    122 non-null    object\n",
      " 5   visit            122 non-null    object\n",
      " 6   mode             121 non-null    object\n",
      " 7   duration         122 non-null    object\n",
      " 8   Distance         122 non-null    object\n",
      " 9   membership_card  122 non-null    object\n",
      " 10  goto_order       122 non-null    object\n",
      " 11  average_spend    122 non-null    object\n",
      " 12  Quality          122 non-null    int64 \n",
      " 13  price_range      122 non-null    int64 \n",
      " 14  promotions       122 non-null    int64 \n",
      " 15  ambiance         122 non-null    int64 \n",
      " 16  WiFi_quality     122 non-null    int64 \n",
      " 17  service          122 non-null    int64 \n",
      " 18  M&H              122 non-null    int64 \n",
      " 19  Source           121 non-null    object\n",
      " 20  Visit_again      122 non-null    object\n",
      "dtypes: int64(7), object(14)\n",
      "memory usage: 20.1+ KB\n"
     ]
    }
   ],
   "source": [
    "#Column Profiles\n",
    "df.info()"
   ]
  },
  {
   "cell_type": "code",
   "execution_count": 6,
   "id": "12618fae",
   "metadata": {},
   "outputs": [
    {
     "data": {
      "text/plain": [
       "{'Gender': array(['Female', 'Male'], dtype=object),\n",
       " 'Age': array(['From 20 to 29', 'From 30 to 39', '40 and above', 'Below 20'],\n",
       "       dtype=object),\n",
       " 'Job_Status': array(['Student', 'Employed', 'Self-employed', 'Housewife'], dtype=object),\n",
       " 'annual_income': array(['Less than RM25,000', 'RM50,000 - RM100,000',\n",
       "        'RM25,000 - RM50,000', 'RM100,000 - RM150,000',\n",
       "        'More than RM150,000'], dtype=object),\n",
       " 'visit': array(['Rarely', 'Monthly', 'Weekly', 'Never', 'Daily'], dtype=object),\n",
       " 'mode': array(['Dine in', 'Take away', 'Drive-thru', 'never', 'Never buy', nan,\n",
       "        'I dont like coffee', 'Never'], dtype=object),\n",
       " 'duration': array(['Between 30 minutes to 1 hour', 'Below 30 minutes',\n",
       "        'More than 3 hours', 'Between 1 hour to 2 hours',\n",
       "        'Between 2 hours to 3 hours'], dtype=object),\n",
       " 'Distance': array(['within 1km', '1km - 3km', 'more than 3km'], dtype=object),\n",
       " 'membership_card': array(['Yes', 'No'], dtype=object),\n",
       " 'goto_order': array(['Coffee', 'Cold drinks;Pastries', 'Coffee;Sandwiches',\n",
       "        'Cold drinks', 'Coffee;Cold drinks',\n",
       "        'Cold drinks;Pastries;Sandwiches',\n",
       "        'Coffee;Juices;Pastries;Sandwiches', 'Coffee;Pastries;Sandwiches',\n",
       "        'Coffee;Pastries', 'Cold drinks;Juices;Pastries',\n",
       "        'Coffee;Cold drinks;Pastries;Sandwiches', 'Never', 'Never buy any',\n",
       "        'Jaws chip', 'cake', 'Pastries', 'Cold drinks;Never', 'never',\n",
       "        'Nothing', 'Coffee;Cold drinks;Juices;Pastries;Sandwiches'],\n",
       "       dtype=object),\n",
       " 'average_spend': array(['Less than RM20', 'Around RM20 - RM40', 'More than RM40', 'Zero'],\n",
       "       dtype=object),\n",
       " 'Quality': array([4, 2, 3, 5, 1], dtype=int64),\n",
       " 'price_range': array([3, 1, 5, 2, 4], dtype=int64),\n",
       " 'promotions': array([5, 4, 3, 2, 1], dtype=int64),\n",
       " 'ambiance': array([5, 4, 3, 2, 1], dtype=int64),\n",
       " 'WiFi_quality': array([4, 3, 2, 5, 1], dtype=int64),\n",
       " 'service': array([4, 5, 3, 2, 1], dtype=int64),\n",
       " 'M&H': array([3, 2, 4, 5, 1], dtype=int64),\n",
       " 'Source': array(['Starbucks Website/Apps;Social Media;Emails;Deal sites (fave, iprice, etc...)',\n",
       "        'Social Media;In Store displays', 'In Store displays;Billboards',\n",
       "        'Through friends and word of mouth',\n",
       "        'Starbucks Website/Apps;Social Media', 'Social Media',\n",
       "        'Starbucks Website/Apps;Social Media;Emails;Through friends and word of mouth',\n",
       "        'Starbucks Website/Apps;Social Media;Through friends and word of mouth',\n",
       "        'Social Media;Through friends and word of mouth',\n",
       "        'Social Media;Through friends and word of mouth;In Store displays',\n",
       "        'Starbucks Website/Apps', 'Emails', 'Social Media;Emails',\n",
       "        'Through friends and word of mouth;In Store displays',\n",
       "        'Social Media;In Store displays;Billboards', 'Application offer',\n",
       "        'Starbucks Website/Apps;Social Media;Through friends and word of mouth;In Store displays',\n",
       "        'In Store displays',\n",
       "        'Social Media;Through friends and word of mouth;Billboards',\n",
       "        'Starbucks Website/Apps;Social Media;Emails;Billboards',\n",
       "        'Social Media;Emails;Deal sites (fave, iprice, etc...);Through friends and word of mouth;In Store displays;Billboards',\n",
       "        'Starbucks Website/Apps;Social Media;Deal sites (fave, iprice, etc...);Through friends and word of mouth',\n",
       "        'Never hear',\n",
       "        'Social Media;Through friends and word of mouth;In Store displays;Billboards',\n",
       "        'Starbucks Website/Apps;Deal sites (fave, iprice, etc...)',\n",
       "        'Social Media;Deal sites (fave, iprice, etc...);Through friends and word of mouth',\n",
       "        'Social Media;Emails;Through friends and word of mouth',\n",
       "        'Social Media;Deal sites (fave, iprice, etc...)', nan,\n",
       "        'Starbucks Website/Apps;Emails', 'Billboards',\n",
       "        'Starbucks Website/Apps;Social Media;Emails;Deal sites (fave, iprice, etc...);Through friends and word of mouth;In Store displays;Billboards'],\n",
       "       dtype=object),\n",
       " 'Visit_again': array(['Yes', 'No'], dtype=object)}"
      ]
     },
     "execution_count": 6,
     "metadata": {},
     "output_type": "execute_result"
    }
   ],
   "source": [
    "#Column Contents\n",
    "col=df.columns\n",
    "d={}\n",
    "for i in range(1,21):\n",
    "    d[col[i]] = df[col[i]].unique()\n",
    "d"
   ]
  },
  {
   "cell_type": "markdown",
   "id": "f5dd8a94",
   "metadata": {},
   "source": [
    "\n",
    "\n",
    "There are certain unnecessary values in multiple columns:\n",
    "\n",
    "    Columns                Values\n",
    "    goto_order             Never, never buy any,etc\n",
    "    average_spend          Zero\n",
    "    mode                   never, Never Buy, etc."
   ]
  },
  {
   "cell_type": "code",
   "execution_count": 7,
   "id": "7f50f564",
   "metadata": {},
   "outputs": [
    {
     "name": "stdout",
     "output_type": "stream",
     "text": [
      "<class 'pandas.core.frame.DataFrame'>\n",
      "Int64Index: 109 entries, 0 to 121\n",
      "Data columns (total 21 columns):\n",
      " #   Column           Non-Null Count  Dtype \n",
      "---  ------           --------------  ----- \n",
      " 0   Date             109 non-null    object\n",
      " 1   Gender           109 non-null    object\n",
      " 2   Age              109 non-null    object\n",
      " 3   Job_Status       109 non-null    object\n",
      " 4   annual_income    109 non-null    object\n",
      " 5   visit            109 non-null    object\n",
      " 6   mode             109 non-null    object\n",
      " 7   duration         109 non-null    object\n",
      " 8   Distance         109 non-null    object\n",
      " 9   membership_card  109 non-null    object\n",
      " 10  goto_order       109 non-null    object\n",
      " 11  average_spend    109 non-null    object\n",
      " 12  Quality          109 non-null    int64 \n",
      " 13  price_range      109 non-null    int64 \n",
      " 14  promotions       109 non-null    int64 \n",
      " 15  ambiance         109 non-null    int64 \n",
      " 16  WiFi_quality     109 non-null    int64 \n",
      " 17  service          109 non-null    int64 \n",
      " 18  M&H              109 non-null    int64 \n",
      " 19  Source           109 non-null    object\n",
      " 20  Visit_again      109 non-null    object\n",
      "dtypes: int64(7), object(14)\n",
      "memory usage: 18.7+ KB\n"
     ]
    }
   ],
   "source": [
    "#Cleaning\n",
    "df.drop(df[(df['goto_order'] == \"never\") | (df['goto_order'] == \"Never\") | (df['goto_order'] == \"Never buy any\") | ( df[\"goto_order\"] == \"Nothing\")].index,inplace=True)\n",
    "df.drop(df[(df['mode'] == \"never\") | (df['mode'] == \"Never\") | (df['mode'] == \"Never buy\") | ( df[\"mode\"] == \"I dont like coffee\")].index,inplace=True)\n",
    "df.drop(df[df['average_spend']==\"Zero\"].index,inplace=True)\n",
    "df.info()"
   ]
  },
  {
   "cell_type": "code",
   "execution_count": 8,
   "id": "ee1c479f",
   "metadata": {},
   "outputs": [],
   "source": [
    "df1=df.copy()"
   ]
  },
  {
   "cell_type": "markdown",
   "id": "9548bab9",
   "metadata": {},
   "source": [
    "Copy for rollback."
   ]
  },
  {
   "cell_type": "markdown",
   "id": "5641d768",
   "metadata": {},
   "source": [
    "## Insights"
   ]
  },
  {
   "cell_type": "code",
   "execution_count": 9,
   "id": "094e5293",
   "metadata": {},
   "outputs": [
    {
     "data": {
      "text/plain": [
       "Job_Status     average_spend       Visit_again\n",
       "Employed       Around RM20 - RM40  Yes            25\n",
       "                                   No              3\n",
       "               Less than RM20      Yes            21\n",
       "                                   No              5\n",
       "               More than RM40      Yes             2\n",
       "Housewife      Around RM20 - RM40  Yes             1\n",
       "               More than RM40      Yes             1\n",
       "Self-employed  Around RM20 - RM40  Yes             6\n",
       "               Less than RM20      Yes             5\n",
       "                                   No              1\n",
       "               More than RM40      Yes             2\n",
       "Student        Around RM20 - RM40  Yes             9\n",
       "               Less than RM20      Yes            15\n",
       "                                   No             11\n",
       "               More than RM40      Yes             2\n",
       "Name: Visit_again, dtype: int64"
      ]
     },
     "execution_count": 9,
     "metadata": {},
     "output_type": "execute_result"
    }
   ],
   "source": [
    "#likelihood of visiting again by Job Status and Average spend\n",
    "df1.groupby(['Job_Status','average_spend'])['Visit_again'].value_counts()"
   ]
  },
  {
   "cell_type": "markdown",
   "id": "eb8469f0",
   "metadata": {},
   "source": [
    "Students who spend less than RM20 are most likely to not visit again. Therefore, we need to introduce items focusing students. Price for the item should be in the lower range(Less than RM20). "
   ]
  },
  {
   "cell_type": "code",
   "execution_count": 10,
   "id": "a80d9478",
   "metadata": {},
   "outputs": [
    {
     "data": {
      "text/plain": [
       "Coffee         79\n",
       "Cold drinks    35\n",
       "Pastries       15\n",
       "Sandwiches      8\n",
       "Juices          4\n",
       "Jaws chip       1\n",
       "cake            1\n",
       "dtype: int64"
      ]
     },
     "execution_count": 10,
     "metadata": {},
     "output_type": "execute_result"
    }
   ],
   "source": [
    "#most ordered itmes.\n",
    "df1.goto_order.str.split(\";\",expand=True).stack().value_counts()"
   ]
  },
  {
   "cell_type": "markdown",
   "id": "0d69e061",
   "metadata": {},
   "source": [
    "Other than coffee, customers usually order Cold drinks and pastries. Therefore, new items can belong to these categories."
   ]
  },
  {
   "cell_type": "code",
   "execution_count": 12,
   "id": "745c3b00",
   "metadata": {},
   "outputs": [
    {
     "data": {
      "text/plain": [
       "service  Visit_again\n",
       "2        No              2\n",
       "         Yes             2\n",
       "3        Yes            29\n",
       "         No              6\n",
       "4        Yes            37\n",
       "         No             11\n",
       "5        Yes            21\n",
       "         No              1\n",
       "Name: Visit_again, dtype: int64"
      ]
     },
     "execution_count": 12,
     "metadata": {},
     "output_type": "execute_result"
    }
   ],
   "source": [
    "df1.groupby(\"service\")['Visit_again'].value_counts()"
   ]
  },
  {
   "cell_type": "markdown",
   "id": "d2f73e7e",
   "metadata": {},
   "source": [
    "Customers who rated the quality of service high are more likely to return."
   ]
  },
  {
   "cell_type": "code",
   "execution_count": 13,
   "id": "43d49bcb",
   "metadata": {},
   "outputs": [
    {
     "data": {
      "text/plain": [
       "membership_card  Visit_again\n",
       "No               Yes            35\n",
       "                 No             15\n",
       "Yes              Yes            54\n",
       "                 No              5\n",
       "Name: Visit_again, dtype: int64"
      ]
     },
     "execution_count": 13,
     "metadata": {},
     "output_type": "execute_result"
    }
   ],
   "source": [
    "df1.groupby(\"membership_card\")['Visit_again'].value_counts()"
   ]
  },
  {
   "cell_type": "markdown",
   "id": "b2b39c38",
   "metadata": {},
   "source": [
    "The likelihood of people not returning is higher with customers without a membership card."
   ]
  },
  {
   "cell_type": "markdown",
   "id": "a2833791",
   "metadata": {},
   "source": [
    "## Correlation"
   ]
  },
  {
   "cell_type": "code",
   "execution_count": null,
   "id": "f44e29b2",
   "metadata": {},
   "outputs": [],
   "source": [
    "#Correlation dataframe\n",
    "corr_df= df[['Quality', 'price_range', 'promotions', 'ambiance', 'WiFi_quality','M&H','Visit_again']]\n",
    "corr_df['Visit_again'] = np.where(corr_df['Visit_again'] == \"Yes\",1,0)\n",
    "corr_df.head()"
   ]
  },
  {
   "cell_type": "code",
   "execution_count": null,
   "id": "4a934063",
   "metadata": {},
   "outputs": [],
   "source": [
    "#Correlation Matrix\n",
    "corr_matrix = corr_df.corr()\n",
    "corr_matrix"
   ]
  },
  {
   "cell_type": "code",
   "execution_count": null,
   "id": "76af814b",
   "metadata": {},
   "outputs": [],
   "source": [
    "#Heatmap\n",
    "import matplotlib.pyplot as plt\n",
    "import seaborn as sns\n",
    "plt.figure(figsize = (12,9))\n",
    "plot = sns.heatmap(corr_matrix,annot = True)\n",
    "plot.set_title(\"Correlation Heatmap\")"
   ]
  },
  {
   "cell_type": "markdown",
   "id": "3b9fc38a",
   "metadata": {},
   "source": [
    "According to the heatmap, it can be inferred that promotions and Wifi quality have the least impact on the probability of customers revisiting the coffee house. Additionally, the likelihood of customers selecting the coffee house for business meetings and hangouts is also least influenced by these factors.\n",
    "\n",
    "To improve customer retention, the coffee house should focus on enhancing its promotions and Wifi quality."
   ]
  },
  {
   "cell_type": "markdown",
   "id": "9d3f24aa",
   "metadata": {},
   "source": [
    "# Analysis Report"
   ]
  },
  {
   "cell_type": "markdown",
   "id": "eaa65979",
   "metadata": {},
   "source": [
    "In conclusion, our analysis of the customer data for Coffee House has revealed several key insights that can help to improve customer retention and increase revenue. Our findings suggest that factors such as bad Wi-Fi quality and lack of promotions are the key factors towards decline in th retentionn rate. Also, our analysis showed that a lack of variety can be observed in the menu, especially towards lower price range products. Customers who rated the quality of service 'high' are more likely to return. Additionally, customers with no membership card are more likely to not return.\n",
    "\n",
    "Based on these insights, we recommend that Coffee House can take following actions:\n",
    "1. Work on the promotions and improve the Wi-Fi quality.\n",
    "2. Introduce new items in the menu focusing students in the lower price range.\n",
    "3. Increase the circulation of membership card as the probablity of a customer not returning is higher for a customer without a membership card.\n",
    "\n",
    "It is important to note that our analysis was limited by the sample size and potential biases in the data. Future research could focus on expanding the sample size and collecting more diverse data to improve the accuracy of the findings."
   ]
  }
 ],
 "metadata": {
  "kernelspec": {
   "display_name": "Python 3 (ipykernel)",
   "language": "python",
   "name": "python3"
  },
  "language_info": {
   "codemirror_mode": {
    "name": "ipython",
    "version": 3
   },
   "file_extension": ".py",
   "mimetype": "text/x-python",
   "name": "python",
   "nbconvert_exporter": "python",
   "pygments_lexer": "ipython3",
   "version": "3.9.7"
  }
 },
 "nbformat": 4,
 "nbformat_minor": 5
}
